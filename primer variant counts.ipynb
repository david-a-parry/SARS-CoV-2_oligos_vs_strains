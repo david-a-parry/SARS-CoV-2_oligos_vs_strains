{
 "cells": [
  {
   "cell_type": "code",
   "execution_count": null,
   "metadata": {},
   "outputs": [],
   "source": [
    "import pandas as pd\n",
    "import matplotlib\n",
    "import matplotlib.pyplot as plt\n",
    "import seaborn as sns\n",
    "import numpy as np\n",
    "import os\n",
    "import sys\n",
    "import glob\n",
    "import re\n",
    "import gzip\n",
    "from collections import defaultdict\n",
    "from Bio import SeqIO\n",
    "from Bio.Data.IUPACData import ambiguous_dna_values\n",
    "ambiguous_dna_values['U'] = 'T' # some sequences are given as RNA\n",
    "%matplotlib inline\n",
    "\n",
    "sns.set_style('whitegrid')\n",
    "rev_re = re.compile(r'R\\d?$')"
   ]
  },
  {
   "cell_type": "code",
   "execution_count": null,
   "metadata": {},
   "outputs": [],
   "source": [
    "assert pd.__version__ >= '1.1.3'"
   ]
  },
  {
   "cell_type": "markdown",
   "metadata": {},
   "source": [
    "# Before you begin\n",
    "\n",
    "This assumes you have followed the instructions as per the README. If not, before you begin please download the hCov-19 nextfasta file (sequences_2020-10-12_07-17.fasta.gz) and msa_1021 file (msa_1012.tar.xz) to the same directory as this notebook. Then run the following commands in your shell:\n",
    "\n",
    "~~~\n",
    "tar xvf msa_1012.tar.xz\n",
    "python3 reheader_msa.py  msa_1012.fasta\n",
    "\n",
    "~~~\n",
    "\n",
    "If on Windows, 7-Zip can help you extract the files from msa_1012.tar.xz instead (you will need to do this in two steps in order to get the required msa_1012.fasta file)"
   ]
  },
  {
   "cell_type": "code",
   "execution_count": null,
   "metadata": {},
   "outputs": [],
   "source": [
    "# If GISAID filenames change this is where you need to edit them\n",
    "hcov_seq_fasta = \"sequences_2020-10-12_07-17.fasta.gz\"\n",
    "msa_fasta = \"msa_1012.reheadered.fasta\""
   ]
  },
  {
   "cell_type": "code",
   "execution_count": null,
   "metadata": {},
   "outputs": [],
   "source": [
    "from Bio import pairwise2\n",
    "\n",
    "\n",
    "def ambiguous_match(nt1, nt2):\n",
    "    return set(ambiguous_dna_values[nt1]).intersection(set(ambiguous_dna_values[nt2]))\n",
    "\n",
    "\n",
    "def get_align_positions(seq):\n",
    "    ''' Return the position of all aligned letters'''\n",
    "    align_pos = []\n",
    "    for i in range(len(seq)):\n",
    "        if seq[i] == '-':\n",
    "            continue\n",
    "        align_pos.append(i)\n",
    "    return align_pos\n",
    "\n",
    "\n",
    "def seq_pos_to_align_pos(seq, positions):\n",
    "    ''' Return the positions within alignment of given sequence positions'''\n",
    "    x = 0\n",
    "    aligned = []\n",
    "    stop_at = max(positions)\n",
    "    for i in range(len(seq)):\n",
    "        if seq[i] == '-':\n",
    "            continue\n",
    "        if x in positions:\n",
    "            aligned.append(i)\n",
    "        x += 1\n",
    "        if x > stop_at:\n",
    "            break\n",
    "    return aligned\n",
    "\n",
    "\n",
    "def align_pos_to_seq_pos(seq, positions):\n",
    "    ''' Return the positions within sequence of given alignment positions'''\n",
    "    x = 0\n",
    "    aligned = []\n",
    "    stop_at = max(positions)\n",
    "    for i in range(len(seq)):\n",
    "        if seq[i] == '-':\n",
    "            continue\n",
    "        if i in positions:\n",
    "            aligned.append(x)\n",
    "        x += 1\n",
    "        if i > stop_at:\n",
    "            break\n",
    "    return aligned\n",
    "\n",
    "\n",
    "def pairwise_matches(query, ref, align_indices, check_flanks=20, query_start=0, query_end=-1):\n",
    "    comps = dict(match=0,\n",
    "                 mismatch=0,\n",
    "                 deletion=0,\n",
    "                 insertion=0)\n",
    "    # go through each alignment index from min to max to allow for gaps\n",
    "    q = query_start\n",
    "    for i in range(align_indices[query_start], align_indices[query_end] + 1):\n",
    "        if i in align_indices:\n",
    "            if query[q] == ref[i]:\n",
    "                comps['match'] += 1\n",
    "#             elif ref[i] in ambiguous_dna_values[query[q]]:\n",
    "#                 comps['match'] += 1\n",
    "            elif ref[i] == '-':\n",
    "                comps['deletion'] += 1\n",
    "            elif ambiguous_match(ref[i], query[q]):\n",
    "                comps['match'] += 1\n",
    "            else:\n",
    "                comps['mismatch'] += 1\n",
    "            q += 1\n",
    "        else:\n",
    "            if ref[i] != '-':\n",
    "                comps['insertion'] += 1\n",
    "            # otherwise is gap in both sequences\n",
    "    if comps['deletion'] or comps['insertion']:\n",
    "        # attempt pairwise alignment of flanking sequences to see\n",
    "        # if there really is an exact match to primer - e.g.\n",
    "        # primer: ACGTACG-T\n",
    "        # ref:    ACGTACGTT\n",
    "        # msa:    ACGTACG-T\n",
    "        start = max((align_indices[0] - check_flanks, 0))\n",
    "        end = align_indices[-1] + check_flanks\n",
    "        for a in pairwise2.align.localms(query, ref[start:end], 2, -1, -5, -1):\n",
    "            if a[0][a.start:a.end] == a[1][a.start:a.end]: # exact match\n",
    "                comps = dict(match=len(align_indices[query_start:query_end]) + 1,\n",
    "                             mismatch=0,\n",
    "                             deletion=0,\n",
    "                             insertion=0)\n",
    "                return comps\n",
    "            # otherwise just accept multi-alignment based matches\n",
    "    return comps\n",
    "\n",
    "def primer_to_assay(primer):\n",
    "    if re.match(r'M-\\d+-[FPR]', primer):\n",
    "        return 'M-XXX'\n",
    "    return primer.rstrip(re.split(r'[-_]', primer)[-1]).rstrip('_-')\n",
    "\n",
    "\n",
    "def primer_to_probe_type(primer):\n",
    "    return re.split(r'[-_]', primer)[-1].rstrip('12')"
   ]
  },
  {
   "cell_type": "markdown",
   "metadata": {},
   "source": [
    "## Find primer positions relative to Wuhan reference sequence 'Wuhan/WIV04/2019' from probe/ref mafft alignment"
   ]
  },
  {
   "cell_type": "code",
   "execution_count": null,
   "metadata": {},
   "outputs": [],
   "source": [
    "ref = 'Wuhan/WIV04/2019'\n",
    "probes = dict()\n",
    "primer_pos = defaultdict(list)\n",
    "found = False\n",
    "with gzip.open(hcov_seq_fasta, 'rt') as fh:\n",
    "    for ref_record in SeqIO.parse(fh, 'fasta'):\n",
    "        if ref_record.id == ref:\n",
    "            found = True\n",
    "            sys.stderr.write(\"Found {} sequence\".format(ref))\n",
    "            break\n",
    "if not found:\n",
    "    raise ValueError(\"Could not find {} reference in alignment {}\".format(ref, fasta))\n",
    "    \n",
    "with gzip.open(\"all_primers_probes.fasta.gz\", 'rt') as fh:\n",
    "    for record in SeqIO.parse(fh, \"fasta\"):\n",
    "        if rev_re.search(record.id) or record.id == 'S-Gene-P':\n",
    "            sys.stderr.write(\"Reverse complementing {}\\n\".format(record.id))\n",
    "            record.seq = record.seq.reverse_complement()\n",
    "        probes[record.id] = record\n",
    "        pw_scores = defaultdict(list)\n",
    "        for alignment in pairwise2.align.localms(record.seq,\n",
    "                                                 ref_record.seq,\n",
    "                                                 2,\n",
    "                                                 -1,\n",
    "                                                 -10,\n",
    "                                                 -1):\n",
    "            pw_scores[alignment.score].append(alignment)\n",
    "        if not pw_scores:\n",
    "            raise ValueError(\"No alignments found for {}\".format(record.id))\n",
    "        max_score = max(pw_scores.keys())\n",
    "        if len(pw_scores[max_score]) > 1:\n",
    "            raise ValueError(\"Multiple ({}) \".format(len(pw_scores[max])) +\n",
    "                             \"sequences with best alignment score\")\n",
    "        alignment = pw_scores[max_score][0]\n",
    "        print(record.id)\n",
    "        print(pairwise2.format_alignment(*alignment))\n",
    "        for i in range(alignment.start, alignment.end):\n",
    "            if alignment[0][i] == '-':\n",
    "                raise ValueError(\"Gap in primer sequence {} at alignment position {}\".format(record.id, i))\n",
    "            elif alignment[1][i] == '-':\n",
    "                raise ValueError(\"Insertion in primer sequence {} at alignment position {}\".format(record.id, i))\n",
    "            elif alignment[0][i] != alignment[1][i]:\n",
    "                if not ambiguous_match(alignment[0][i], alignment[1][i]):\n",
    "                    sys.stderr.write(\"Warning: mismatch in primer {} at reference position {}\".format(record.id, i))\n",
    "            primer_pos[record.id].append(i)\n",
    "primer_pos"
   ]
  },
  {
   "cell_type": "markdown",
   "metadata": {},
   "source": [
    "## Convert primer positions relative to multiple sequence alignment of all strains"
   ]
  },
  {
   "cell_type": "code",
   "execution_count": null,
   "metadata": {},
   "outputs": [],
   "source": [
    "primer_msa_pos = dict()\n",
    "found = False\n",
    "with open(msa_fasta, 'rt') as fh:\n",
    "    for ref_record in SeqIO.parse(fh, 'fasta'):\n",
    "        if ref_record.id == ref:\n",
    "            found = True\n",
    "            break\n",
    "if not found:\n",
    "    raise ValueError(\"Could not find ref sequence {}\".format(ref))\n",
    "for k, v in primer_pos.items():\n",
    "    primer_msa_pos[k] = seq_pos_to_align_pos(ref_record.seq, v)\n",
    "primer_msa_pos"
   ]
  },
  {
   "cell_type": "markdown",
   "metadata": {},
   "source": [
    "## Get matching sequences and match stats from all sequences in multi-alignment"
   ]
  },
  {
   "cell_type": "code",
   "execution_count": null,
   "metadata": {},
   "outputs": [],
   "source": [
    "strain2probe_seq = defaultdict(dict)\n",
    "strain2probe_match = defaultdict(dict)\n",
    "strain2probe_n = defaultdict(list) # record primer/probe combinations with 'N' in seq\n",
    "strain2probe_del = defaultdict(list) # record primer/probe combinations with large (>15nt gaps) surrounding primer\n",
    "strain2probe_ins = defaultdict(list) # record primer/probe combinations with insertions\n",
    "strain_quals = defaultdict(dict)\n",
    "n = 0\n",
    "gap_window = 15\n",
    "max_surround_gap = 15\n",
    "with open(msa_fasta, 'rt') as fh:\n",
    "    for ref_record in SeqIO.parse(fh, 'fasta'):\n",
    "        for k, v in primer_msa_pos.items():\n",
    "            s = ref_record.seq[v[0]:v[-1]+1]\n",
    "            strain2probe_seq[ref_record.id][k] = s\n",
    "            if 'N' in s:\n",
    "                strain2probe_n[ref_record.id].append(k)\n",
    "            if '-' in s:\n",
    "                start = max(0, v[0] - gap_window)\n",
    "                if ref_record.seq[start:v[-1] + gap_window].count('-') > max_surround_gap: \n",
    "                    strain2probe_del[ref_record.id].append(k)\n",
    "            if len(s) > len(probes[k].seq):\n",
    "                strain2probe_ins[ref_record.id].append(k)\n",
    "            strain2probe_match[ref_record.id][k] = pairwise_matches(probes[k].seq,\n",
    "                                                                    ref_record.seq,\n",
    "                                                                    v)\n",
    "        n += 1\n",
    "        if n % 10000 == 0:\n",
    "            print(\"Processed {:,} sequences\".format(n))\n",
    "print(\"Finished processing {:,}\".format(n))"
   ]
  },
  {
   "cell_type": "markdown",
   "metadata": {},
   "source": [
    "## Perform QC on sequences "
   ]
  },
  {
   "cell_type": "markdown",
   "metadata": {},
   "source": [
    "### Get the % Ns in each sequence"
   ]
  },
  {
   "cell_type": "code",
   "execution_count": null,
   "metadata": {},
   "outputs": [],
   "source": [
    "strain_quals = defaultdict(list)\n",
    "with gzip.open(hcov_seq_fasta, 'rt') as fh:\n",
    "    for seq_record in SeqIO.parse(fh, 'fasta'):\n",
    "        l = len(seq_record.seq)\n",
    "        n = seq_record.seq.count('N')\n",
    "        gaps = seq_record.seq.count('-')\n",
    "        strain_quals['strain'].append(seq_record.id)\n",
    "        strain_quals['length'].append(l)\n",
    "        strain_quals['N'].append(n)\n",
    "        strain_quals['frac_N'].append(n/l)\n",
    "strain_quals = pd.DataFrame.from_dict(strain_quals)\n",
    "strain_quals.to_csv(\"strain_Ns.csv\", index=False, sep='\\t')\n",
    "strain_quals.head()"
   ]
  },
  {
   "cell_type": "markdown",
   "metadata": {},
   "source": [
    "### Get the number of gaps in the MSA for each sequence\n",
    "First determine the starting point of the reference strain sequence in the MSA and the endpoint after removing the poly-A tail"
   ]
  },
  {
   "cell_type": "code",
   "execution_count": null,
   "metadata": {},
   "outputs": [],
   "source": [
    "found = False\n",
    "with open(msa_fasta, 'rt') as fh:\n",
    "    for ref_record in SeqIO.parse(fh, 'fasta'):\n",
    "        if ref_record.id == ref:\n",
    "            found = True\n",
    "            break\n",
    "if not found:\n",
    "    raise ValueError(\"Could not find ref sequence {}\".format(ref))\n",
    "ref_msa_start = seq_pos_to_align_pos(ref_record.seq, range(0, 29892))[0]\n",
    "ref_msa_end = seq_pos_to_align_pos(ref_record.seq, range(0, 29892))[-1]\n",
    "trim = 0\n",
    "for nt in ref_record.seq[ref_msa_end:ref_msa_start:-1]:\n",
    "    if nt == 'A' or nt == '-':\n",
    "        trim += 1\n",
    "    else:\n",
    "        break\n",
    "ref_msa_end = ref_msa_end - trim + 1\n",
    "str(ref_record.seq[ref_msa_start:ref_msa_end])"
   ]
  },
  {
   "cell_type": "markdown",
   "metadata": {},
   "source": [
    "Count Ns and gaps within reference sequence region of the MSA"
   ]
  },
  {
   "cell_type": "code",
   "execution_count": null,
   "metadata": {},
   "outputs": [],
   "source": [
    "strain_gaps = defaultdict(list)\n",
    "with open(msa_fasta, 'rt') as fh:\n",
    "    for ref_record in SeqIO.parse(fh, 'fasta'):\n",
    "        l = ref_msa_end - ref_msa_start\n",
    "        seq = ref_record.seq[ref_msa_start:ref_msa_end]\n",
    "        gaps = seq.count('-')\n",
    "        ns = seq.count('N')\n",
    "        seq_length = l - gaps - ns\n",
    "        strain_gaps['strain'].append(ref_record.id)\n",
    "        strain_gaps['length'].append(seq_length)\n",
    "        strain_gaps['gaps'].append(gaps)\n",
    "        strain_gaps['frac_gaps'].append(gaps/seq_length)\n",
    "strain_gaps = pd.DataFrame.from_dict(strain_gaps)\n",
    "strain_gaps.to_csv(\"strain_gaps.csv\", index=False, sep='\\t')\n",
    "strain_gaps.head()"
   ]
  },
  {
   "cell_type": "code",
   "execution_count": null,
   "metadata": {},
   "outputs": [],
   "source": [
    "strain_gaps.describe()"
   ]
  },
  {
   "cell_type": "markdown",
   "metadata": {},
   "source": [
    "Use 95th percentile cutoff to remove gappy sequences"
   ]
  },
  {
   "cell_type": "code",
   "execution_count": null,
   "metadata": {
    "scrolled": false
   },
   "outputs": [],
   "source": [
    "quant_cutoff = strain_gaps.frac_gaps.quantile(0.95)\n",
    "print(\"Using 95% cutoff at {:g}\".format(quant_cutoff))\n",
    "plt.figure(figsize=(12,9))\n",
    "sns.histplot(strain_gaps.frac_gaps, kde=True)\n",
    "#plt.yscale('log')\n",
    "plt.ylim(0, 10000)\n",
    "# ref_gaps = strain_gaps[strain_gaps.strain == ref].frac_gaps.values[0]\n",
    "# plt.plot([ref_gaps, ref_gaps], [0, 10000], '--', c='k')\n",
    "plt.plot([quant_cutoff, quant_cutoff], [0, 10000],\n",
    "         '--',\n",
    "         c='r',\n",
    "         label='95th quantile cutoff')\n",
    "plt.xlabel('Fraction gaps in MSA')\n",
    "plt.legend()"
   ]
  },
  {
   "cell_type": "code",
   "execution_count": null,
   "metadata": {},
   "outputs": [],
   "source": [
    "strain_gaps[strain_gaps.strain == ref]"
   ]
  },
  {
   "cell_type": "code",
   "execution_count": null,
   "metadata": {},
   "outputs": [],
   "source": [
    "strain_quals['N_filter'] = strain_quals['frac_N'] >= 0.01"
   ]
  },
  {
   "cell_type": "code",
   "execution_count": null,
   "metadata": {},
   "outputs": [],
   "source": [
    "plt.figure(figsize=(12,9))\n",
    "sns.histplot(strain_quals.frac_N, kde=True)\n",
    "plt.ylim(0, 6000)\n",
    "# ref_gaps = strain_gaps[strain_gaps.strain == ref].frac_gaps.values[0]\n",
    "# plt.plot([ref_gaps, ref_gaps], [0, 10000], '--', c='k')\n",
    "plt.plot([0.01, 0.01], [0, 6000],\n",
    "         '--',\n",
    "         c='r',)\n",
    "plt.xlabel('Fraction Ns in MSA')\n",
    "plt.legend()"
   ]
  },
  {
   "cell_type": "markdown",
   "metadata": {},
   "source": [
    "## Set whitelist of strains with high sequence quality\n",
    "\n",
    "Strains with < 1% Ns\n",
    "\n",
    "Strains in the 95th percentile for gaps\n",
    "\n",
    "Strains with Ns overlapping primer (consider Ns uninterpretible)"
   ]
  },
  {
   "cell_type": "code",
   "execution_count": null,
   "metadata": {},
   "outputs": [],
   "source": [
    "# # alternatively we could blacklist on deletions overlapping probes\n",
    "# # fraction N\n",
    "# whitelisted_strains = set(\n",
    "#     strain_quals[strain_quals['frac_N'] < 0.01].strain)\n",
    "# # >15nt deletions overlapping probes\n",
    "# whitelisted_strains = whitelisted_strains.difference(\n",
    "#     set(strain2probe_del.keys()))\n",
    "# len(whitelisted_strains)\n",
    "# # any Ns in oligo region\n",
    "# whitelisted_strains = whitelisted_strains.difference(\n",
    "#     set(strain2probe_n.keys()))\n",
    "# len(whitelisted_strains)"
   ]
  },
  {
   "cell_type": "code",
   "execution_count": null,
   "metadata": {},
   "outputs": [],
   "source": [
    "# fraction N\n",
    "whitelisted_strains = set(\n",
    "    strain_quals[strain_quals['frac_N'] < 0.01].strain)\n",
    "len(whitelisted_strains)\n",
    "# fraction gaps\n",
    "whitelisted_strains = whitelisted_strains.difference(\n",
    "    set(strain_gaps[strain_gaps.frac_gaps >= quant_cutoff].strain))\n",
    "# any Ns in oligo region\n",
    "whitelisted_strains = whitelisted_strains.difference(\n",
    "    set(strain2probe_n.keys()))\n",
    "len(whitelisted_strains)"
   ]
  },
  {
   "cell_type": "code",
   "execution_count": null,
   "metadata": {},
   "outputs": [],
   "source": [
    "# metadata = pd.read_csv(\"metadata_2020-10-12_07-15.tsv.gz\", sep='\\t')\n",
    "# keep_cols = ['strain', 'region', 'country', 'length', 'date_submitted']\n",
    "# # 'region_exposure', 'country_exposure', 'division_exposure', \n",
    "# metadata['in_msa'] = metadata.strain.apply(lambda x: bool(strain2probe_match[x]))\n",
    "# metadata.drop(metadata[~metadata.in_msa].index, inplace=True)\n",
    "# # metadata.drop(metadata[(metadata.length < (29791 - 125)) | \n",
    "# #                        (metadata.length > (29791 + 125))].index, inplace=True)\n",
    "# metadata.drop([x for x in metadata.columns if x not in keep_cols], axis=1, inplace=True)\n",
    "# metadata"
   ]
  },
  {
   "cell_type": "markdown",
   "metadata": {},
   "source": [
    "## Count oligo mismatches for each whitelisted strain and put into a dataframe\n",
    "\n",
    "Need to know probe lengths (and summed lengths per assay) to quickly calculate total number of mismatches + gaps"
   ]
  },
  {
   "cell_type": "code",
   "execution_count": null,
   "metadata": {},
   "outputs": [],
   "source": [
    "probe_lengths = dict((k, len(v.seq)) for k, v in probes.items())\n",
    "probe_lengths"
   ]
  },
  {
   "cell_type": "code",
   "execution_count": null,
   "metadata": {},
   "outputs": [],
   "source": [
    "assay_lengths = defaultdict(int)\n",
    "for k, v in probe_lengths.items():\n",
    "    assay = primer_to_assay(k)\n",
    "    assay_lengths[assay] += v\n",
    "assay_lengths"
   ]
  },
  {
   "cell_type": "markdown",
   "metadata": {},
   "source": [
    "## Create dataframe recording mismatch types for each strain"
   ]
  },
  {
   "cell_type": "code",
   "execution_count": null,
   "metadata": {},
   "outputs": [],
   "source": [
    "probe_diffs = defaultdict(list)\n",
    "for strain, probe_dict in strain2probe_match.items():\n",
    "    for probe, match_dict in probe_dict.items():\n",
    "        probe_diffs['strain'].append(strain)\n",
    "        probe_diffs['oligo'].append(probe)\n",
    "        probe_diffs['assay'].append(primer_to_assay(probe))\n",
    "        probe_diffs['primer'].append(primer_to_probe_type(probe))\n",
    "        probe_diffs['length'].append(probe_lengths[probe])\n",
    "        for k, v in match_dict.items():\n",
    "            probe_diffs[k].append(v)\n",
    "probe_diffs = pd.DataFrame.from_dict(probe_diffs)\n",
    "probe_diffs.head()"
   ]
  },
  {
   "cell_type": "markdown",
   "metadata": {},
   "source": [
    "Quickly summarize total differences as length oligo - matches"
   ]
  },
  {
   "cell_type": "code",
   "execution_count": null,
   "metadata": {},
   "outputs": [],
   "source": [
    "probe_diffs['differences'] = probe_diffs.apply(lambda x: x.length - x.match, axis=1)\n",
    "probe_diffs.head()"
   ]
  },
  {
   "cell_type": "markdown",
   "metadata": {},
   "source": [
    "aggregate differences by assay"
   ]
  },
  {
   "cell_type": "code",
   "execution_count": null,
   "metadata": {},
   "outputs": [],
   "source": [
    "assay_diffs = probe_diffs.groupby(['strain', 'assay']).agg(\n",
    "    {'match': np.sum,\n",
    "     'mismatch': np.sum,\n",
    "     'deletion': np.sum,\n",
    "     'insertion': np.sum,\n",
    "     'length': np.sum,\n",
    "     'differences': np.sum}).reset_index()\n",
    "assay_diffs.head()"
   ]
  },
  {
   "cell_type": "code",
   "execution_count": null,
   "metadata": {},
   "outputs": [],
   "source": [
    "assay_diffs.deletion.sum()"
   ]
  },
  {
   "cell_type": "code",
   "execution_count": null,
   "metadata": {},
   "outputs": [],
   "source": [
    "assay_diffs.insertion.sum()"
   ]
  },
  {
   "cell_type": "markdown",
   "metadata": {},
   "source": [
    "### Write summary CSVs for each category of mismatch"
   ]
  },
  {
   "cell_type": "code",
   "execution_count": null,
   "metadata": {},
   "outputs": [],
   "source": [
    "import pathlib\n",
    "\n",
    "for csvdir in ['per_oligo', 'per_assay']:\n",
    "    for csvdir2 in ['binned', 'binary']:\n",
    "        for csvdir3 in ['all_strains', 'high_qual']:\n",
    "            path = pathlib.Path(\"output/{}/{}/{}/plots\".format(csvdir, csvdir2, csvdir3))\n",
    "            path.mkdir(parents=True, exist_ok=True)"
   ]
  },
  {
   "cell_type": "code",
   "execution_count": null,
   "metadata": {},
   "outputs": [],
   "source": [
    "def probe_diffs_to_binned_csv(df, category, csv=None, level='oligo', bin_col_name=None):\n",
    "    if bin_col_name is None:\n",
    "        bin_col_name = 'binned_{}'.format(category)\n",
    "    df[bin_col_name] = df[category].apply(lambda x: str(x) if x < 3 else '>2' )\n",
    "    tmp_df = pd.DataFrame.from_dict(df.value_counts(subset=[level, bin_col_name]).sort_index())\n",
    "    tmp_df.columns = ['Count']\n",
    "    freqs = []\n",
    "    for idx in tmp_df.index:\n",
    "        freqs.append(tmp_df.loc[idx][0]/tmp_df.loc[idx[0]].sum()[0])\n",
    "    tmp_df['Frequency'] = freqs\n",
    "    if csv:\n",
    "        tmp_df.to_csv(csv)\n",
    "    df.drop(bin_col_name, axis=1)\n",
    "    return tmp_df"
   ]
  },
  {
   "cell_type": "code",
   "execution_count": null,
   "metadata": {},
   "outputs": [],
   "source": [
    "def probe_diffs_to_binary_diff_csv(df, category, csv=None, level='oligo', bin_col_name=None):\n",
    "    if bin_col_name is None:\n",
    "        bin_col_name = 'any_{}'.format(category)\n",
    "    df.loc[:, bin_col_name] = df[category] > 0 \n",
    "    tmp_df = pd.DataFrame.from_dict(df.value_counts(subset=[level, bin_col_name]).sort_index())\n",
    "    tmp_df.columns = ['Count']\n",
    "    freqs = []\n",
    "    for idx in tmp_df.index:\n",
    "        freqs.append(tmp_df.loc[idx][0]/tmp_df.loc[idx[0]].sum()[0])\n",
    "    tmp_df['Frequency'] = freqs\n",
    "    if csv:\n",
    "        tmp_df.to_csv(csv)\n",
    "    df.drop(bin_col_name, axis=1)\n",
    "    return tmp_df"
   ]
  },
  {
   "cell_type": "markdown",
   "metadata": {},
   "source": [
    "Write binned summaries of oligo mismatches for all strains and whitelisted strains and create plots\n",
    "\n",
    "We create plots with and without 'RdRp_SARSr-R1' as this oligo has a mismatch in ~all strains and skews the Y-axis"
   ]
  },
  {
   "cell_type": "code",
   "execution_count": null,
   "metadata": {
    "scrolled": true
   },
   "outputs": [],
   "source": [
    "hq_probe_diffs = probe_diffs[probe_diffs.strain.isin(whitelisted_strains)]\n",
    "oligo_order = sorted(list(hq_probe_diffs.oligo.unique()))\n",
    "for df, pdir in zip([hq_probe_diffs, probe_diffs], ['high_qual', 'all_strains']):\n",
    "    for category in ['differences', 'deletion', 'mismatch']:\n",
    "        csvdir = \"output/per_oligo/binned/{}\".format(pdir)\n",
    "        prefix = '{}_binned'.format(category)\n",
    "        tmp_df = probe_diffs_to_binned_csv(df,\n",
    "                                           category=category,\n",
    "                                           csv=\"{}/{}_summary.csv\".format(csvdir, prefix))\n",
    "        tmp_df.reset_index(inplace=True)\n",
    "        for col in ['Count', 'Frequency']:\n",
    "            plt.figure(figsize=(12,9))\n",
    "            sns.barplot(data=tmp_df[(tmp_df[\"binned_{}\".format(category)] != '0')],\n",
    "                        y='Frequency',\n",
    "                        hue='binned_{}'.format(category),\n",
    "                        order=oligo_order,\n",
    "                        hue_order=['1', '2', '>2'],\n",
    "                        x='oligo')\n",
    "            plt.title(\"Strains with any {} in oligos\".format(category))\n",
    "            plt.xticks(rotation=90)\n",
    "            sns.despine()\n",
    "            plt.savefig(csvdir + '/plots/{}_{}.pdf'.format(prefix, col))\n",
    "            plt.figure(figsize=(12,9))\n",
    "            sns.barplot(data=tmp_df[(tmp_df[\"binned_{}\".format(category)] != '0') & \n",
    "                                    (tmp_df.oligo != 'RdRp_SARSr-R1')],\n",
    "                        y='Frequency',\n",
    "                        hue='binned_{}'.format(category),\n",
    "                        order=[x for x in oligo_order if x != 'RdRp_SARSr-R1'],\n",
    "                        hue_order=['1', '2', '>2'],\n",
    "                        x='oligo')\n",
    "            plt.title(\"Strains with any {} in oligos\".format(category))\n",
    "            plt.xticks(rotation=90)\n",
    "            sns.despine()\n",
    "            plt.savefig(csvdir + '/plots/{}_{}_no_RdRp_SARSr-R1.pdf'.format(prefix, col))"
   ]
  },
  {
   "cell_type": "markdown",
   "metadata": {},
   "source": [
    "As above but per-assay rather than per oligo"
   ]
  },
  {
   "cell_type": "code",
   "execution_count": null,
   "metadata": {
    "scrolled": true
   },
   "outputs": [],
   "source": [
    "assay_order = sorted(list(hq_probe_diffs.assay.unique()))\n",
    "hq_assay_diffs = assay_diffs[assay_diffs.strain.isin(whitelisted_strains)]\n",
    "for df, pdir in zip([hq_assay_diffs, assay_diffs], ['high_qual', 'all_strains']):\n",
    "    for category in ['differences', 'deletion', 'mismatch']:\n",
    "        csvdir = \"output/per_assay/binned/{}\".format(pdir)\n",
    "        prefix = '{}_binned'.format(category)\n",
    "        tmp_df = probe_diffs_to_binned_csv(df,\n",
    "                                           category=category,\n",
    "                                           level='assay',\n",
    "                                           csv=\"{}/{}_summary.csv\".format(csvdir, prefix))\n",
    "        tmp_df.reset_index(inplace=True)\n",
    "        for col in ['Count', 'Frequency']:\n",
    "            plt.figure(figsize=(12,9))\n",
    "            sns.barplot(data=tmp_df[(tmp_df[\"binned_{}\".format(category)] != '0')],\n",
    "                        y='Frequency',\n",
    "                        hue='binned_{}'.format(category),\n",
    "                        order=assay_order,\n",
    "                        hue_order=['1', '2', '>2'],\n",
    "                        x='assay')\n",
    "            plt.title(\"Strains with any {} in oligos\".format(category))\n",
    "            plt.xticks(rotation=90)\n",
    "            sns.despine()\n",
    "            plt.savefig(csvdir + '/plots/{}_{}.pdf'.format(prefix, col))\n",
    "            plt.figure(figsize=(12,9))\n",
    "            sns.barplot(data=tmp_df[(tmp_df[\"binned_{}\".format(category)] != '0') & \n",
    "                                    (tmp_df.assay != 'RdRp_SARSr-R1')],\n",
    "                        y='Frequency',\n",
    "                        hue='binned_{}'.format(category),\n",
    "                        order=[x for x in assay_order if x != 'RdRp_SARSr'],\n",
    "                        hue_order=['1', '2', '>2'],\n",
    "                        x='assay')\n",
    "            plt.title(\"Strains with any {} in oligos\".format(category))\n",
    "            plt.xticks(rotation=90)\n",
    "            sns.despine()\n",
    "            plt.savefig(csvdir + '/plots/{}_{}_no_RdRp_SARSr.pdf'.format(prefix, col))\n",
    "            \n",
    "# for category in ['differences', 'deletion', 'mismatch']:\n",
    "#     probe_diffs_to_binned_csv(hq_assay_diffs,\n",
    "#                               category=category,\n",
    "#                               level='assay',\n",
    "#                               csv=\"output/per_assay/binned/high_qual/{}_binned_summary.csv\".format(category))\n",
    "#     probe_diffs_to_binned_csv(assay_diffs,\n",
    "#                               category=category,\n",
    "#                               level='assay',\n",
    "#                               csv=\"output/per_assay/binned/all_strains/{}_binned_summary.csv\".format(category))"
   ]
  },
  {
   "cell_type": "markdown",
   "metadata": {},
   "source": [
    "Write binary (0 variants vs >0 variants) summaries for all strains and whitelisted strains and create plots\n",
    "\n",
    "We create plots with and without 'RdRp_SARSr-R1' as this oligo has a mismatch in ~all strains and skews the Y-axis"
   ]
  },
  {
   "cell_type": "code",
   "execution_count": null,
   "metadata": {
    "scrolled": true
   },
   "outputs": [],
   "source": [
    "for df, pdir in zip([hq_probe_diffs, probe_diffs], ['high_qual', 'all_strains']):\n",
    "    for category in ['differences', 'deletion', 'mismatch']:\n",
    "        csvdir = \"output/per_oligo/binary/{}\".format(pdir)\n",
    "        prefix = '{}_binary'.format(category)\n",
    "        tmp_df = probe_diffs_to_binary_diff_csv(df,\n",
    "                                                category=category,\n",
    "                                                csv=\"{}/{}_summary.csv\".format(csvdir, prefix))\n",
    "        tmp_df.reset_index(inplace=True)\n",
    "        for col in ['Count', 'Frequency']:\n",
    "            plt.figure(figsize=(12,9))\n",
    "            sns.barplot(data=tmp_df[(tmp_df['any_{}'.format(category)] == True)],\n",
    "                        y=col,\n",
    "                        order=oligo_order,\n",
    "                        x='oligo')\n",
    "            plt.title(\"Strains with any {} in oligos\".format(category))\n",
    "            plt.xticks(rotation=90)\n",
    "            sns.despine()\n",
    "            plt.savefig(csvdir + '/plots/{}_{}.pdf'.format(prefix, col))\n",
    "            plt.figure(figsize=(12,9))\n",
    "            sns.barplot(data=tmp_df[(tmp_df['any_{}'.format(category)] == True) &\n",
    "                                    (tmp_df.oligo != 'RdRp_SARSr-R1')],\n",
    "                        y=col,\n",
    "                        order=[x for x in oligo_order if x != 'RdRp_SARSr-R1'],\n",
    "                        x='oligo')\n",
    "            plt.title(\"Strains with any {} in oligos\".format(category))\n",
    "            plt.xticks(rotation=90)\n",
    "            sns.despine()\n",
    "            plt.savefig(csvdir + '/plots/{}_{}_no_RdRp_SARSr-R1.pdf'.format(prefix, col))"
   ]
  },
  {
   "cell_type": "markdown",
   "metadata": {},
   "source": [
    "As above but per-assay rather than per oligo"
   ]
  },
  {
   "cell_type": "code",
   "execution_count": null,
   "metadata": {
    "scrolled": true
   },
   "outputs": [],
   "source": [
    "for df, pdir in zip([hq_assay_diffs, assay_diffs], ['high_qual', 'all_strains']):\n",
    "    for category in ['differences', 'deletion', 'mismatch']:\n",
    "        csvdir = \"output/per_assay/binary/{}\".format(pdir)\n",
    "        prefix = '{}_binary'.format(category)\n",
    "        tmp_df = probe_diffs_to_binary_diff_csv(df,\n",
    "                                                category=category,\n",
    "                                                level='assay',\n",
    "                                                csv=\"{}/{}_summary.csv\".format(csvdir, prefix))\n",
    "        tmp_df.reset_index(inplace=True)\n",
    "        for col in ['Count', 'Frequency']:\n",
    "            plt.figure(figsize=(12,9))\n",
    "            sns.barplot(data=tmp_df[(tmp_df['any_{}'.format(category)] == True)],\n",
    "                        y=col,\n",
    "                        order=assay_order,\n",
    "                        x='assay')\n",
    "            plt.title(\"Strains with any {} in oligos\".format(category))\n",
    "            plt.xticks(rotation=90)\n",
    "            sns.despine()\n",
    "            plt.savefig(csvdir + '/plots/{}_{}.pdf'.format(prefix, col))\n",
    "            plt.figure(figsize=(12,9))\n",
    "            sns.barplot(data=tmp_df[(tmp_df['any_{}'.format(category)] == True) &\n",
    "                                    (tmp_df.assay != 'RdRp_SARSr-R1')],\n",
    "                        y=col,\n",
    "                        order=[x for x in assay_order if x != 'RdRp_SARSr'],\n",
    "                        x='assay')\n",
    "            plt.title(\"Strains with any {} in oligos\".format(category))\n",
    "            plt.xticks(rotation=90)\n",
    "            sns.despine()\n",
    "            plt.savefig(csvdir + '/plots/{}_{}_no_RdRp_SARSr.pdf'.format(prefix, col))"
   ]
  },
  {
   "cell_type": "code",
   "execution_count": null,
   "metadata": {},
   "outputs": [],
   "source": [
    "probe_diffs.to_csv(\"output/probe_diffs.csv.gz\", compression='gzip', index=False)\n",
    "hq_probe_diffs.to_csv(\"output/high_qual_probe_diffs.csv.gz\", compression='gzip', index=False)"
   ]
  },
  {
   "cell_type": "markdown",
   "metadata": {},
   "source": [
    "## Get match counts for 3' five nts of each F/R oligo\n",
    "\n",
    "This analysis for high quality/whitelisted strains only"
   ]
  },
  {
   "cell_type": "code",
   "execution_count": null,
   "metadata": {},
   "outputs": [],
   "source": [
    "n = 0\n",
    "gap_window = 15\n",
    "max_surround_gap = 15\n",
    "strain2probe_3prime_match = defaultdict(dict)\n",
    "with open(msa_fasta, 'rt') as fh:\n",
    "    for ref_record in SeqIO.parse(fh, 'fasta'):\n",
    "        if ref_record.id not in whitelisted_strains:\n",
    "            continue\n",
    "        for k, v in primer_msa_pos.items():\n",
    "            p = primer_to_probe_type(k)\n",
    "            if p == 'R' or k == 'S-Gene-P': # reverse complemented sequences\n",
    "                query_start = 0\n",
    "                query_end = 4\n",
    "            else:\n",
    "                query_start = -5\n",
    "                query_end = -1\n",
    "            pw = pairwise_matches(probes[k].seq,\n",
    "                                  ref_record.seq,\n",
    "                                  v,\n",
    "                                  query_start=query_start,\n",
    "                                  query_end=query_end)\n",
    "            strain2probe_3prime_match[ref_record.id][k] = pw\n",
    "        n += 1\n",
    "        if n % 10000 == 0:\n",
    "            print(\"Processed {:,} sequences\".format(n))\n",
    "print(\"Finished processing {:,} sequence\".format(n))"
   ]
  },
  {
   "cell_type": "code",
   "execution_count": null,
   "metadata": {},
   "outputs": [],
   "source": [
    "three_prime_probe_diffs = defaultdict(list)\n",
    "for strain, probe_dict in strain2probe_3prime_match.items():\n",
    "    for probe, match_dict in probe_dict.items():\n",
    "        three_prime_probe_diffs['strain'].append(strain)\n",
    "        three_prime_probe_diffs['oligo'].append(probe)\n",
    "        three_prime_probe_diffs['assay'].append(primer_to_assay(probe))\n",
    "        three_prime_probe_diffs['primer'].append(primer_to_probe_type(probe))\n",
    "        for k, v in match_dict.items():\n",
    "            three_prime_probe_diffs[k].append(v)\n",
    "three_prime_probe_diffs = pd.DataFrame.from_dict(three_prime_probe_diffs)           \n",
    "three_prime_probe_diffs.head()"
   ]
  },
  {
   "cell_type": "code",
   "execution_count": null,
   "metadata": {},
   "outputs": [],
   "source": [
    "three_prime_probe_diffs['differences'] = 5 - three_prime_probe_diffs.match\n",
    "three_prime_probe_diffs.head()"
   ]
  },
  {
   "cell_type": "code",
   "execution_count": null,
   "metadata": {},
   "outputs": [],
   "source": [
    "three_prime_probe_diffs.to_csv(\"output/three_prime_high_qual_probe_diffs.csv.gz\",\n",
    "                               compression='gzip',\n",
    "                               index=False)"
   ]
  },
  {
   "cell_type": "code",
   "execution_count": null,
   "metadata": {},
   "outputs": [],
   "source": [
    "three_prime_assay_diffs = three_prime_probe_diffs[three_prime_probe_diffs.primer != 'P'].groupby(\n",
    "    ['strain', 'assay']).agg(\n",
    "    {'match': np.sum,\n",
    "     'mismatch': np.sum,\n",
    "     'deletion': np.sum,\n",
    "     'insertion': np.sum,\n",
    "     'differences': np.sum}).reset_index()\n",
    "three_prime_assay_diffs.head()"
   ]
  },
  {
   "cell_type": "code",
   "execution_count": null,
   "metadata": {
    "scrolled": true
   },
   "outputs": [],
   "source": [
    "csvdir = 'output/per_oligo/binary/high_qual'\n",
    "for category in ['differences', 'deletion', 'mismatch']:\n",
    "    prefix = 'three_prime_5_{}_binary'.format(category)\n",
    "    tmp_df = probe_diffs_to_binary_diff_csv(three_prime_probe_diffs,\n",
    "                                            level='oligo',\n",
    "                                            category=category,\n",
    "                                            csv=\"{}/{}_summary.csv\".format(csvdir, prefix))\n",
    "    tmp_df.reset_index(inplace=True)\n",
    "    for col in ['Count', 'Frequency']:\n",
    "        plt.figure(figsize=(12,9))\n",
    "        sns.barplot(data=tmp_df[(tmp_df['any_{}'.format(category)] == True)],\n",
    "                    y=col,\n",
    "                    order=oligo_order,\n",
    "                    x='oligo')\n",
    "        plt.title(\"Strains with any {} in 3' five nucleotides\".format(category))\n",
    "        plt.xticks(rotation=90)\n",
    "        sns.despine()\n",
    "        plt.savefig(csvdir + '/plots/{}_{}.pdf'.format(prefix, col))"
   ]
  },
  {
   "cell_type": "code",
   "execution_count": null,
   "metadata": {
    "scrolled": true
   },
   "outputs": [],
   "source": [
    "csvdir = 'output/per_assay/binary/high_qual'\n",
    "for category in ['differences', 'deletion', 'mismatch']:\n",
    "    prefix = 'three_prime_5_{}_binary'.format(category)\n",
    "    tmp_df = probe_diffs_to_binary_diff_csv(three_prime_assay_diffs,\n",
    "                                            level='assay',\n",
    "                                            category=category,\n",
    "                                            csv=\"{}/{}_summary.csv\".format(csvdir, prefix))\n",
    "    tmp_df.reset_index(inplace=True)\n",
    "    for col in ['Count', 'Frequency']:\n",
    "        plt.figure(figsize=(12,9))\n",
    "        sns.barplot(data=tmp_df[(tmp_df['any_{}'.format(category)] == True)],\n",
    "                    y=col,\n",
    "                    order=assay_order,\n",
    "                    x='assay')\n",
    "        plt.title(\"Strains with any {} in 3' five nucleotides\".format(category))\n",
    "        plt.xticks(rotation=90)\n",
    "        sns.despine()\n",
    "        plt.savefig(csvdir + '/plots/{}_{}.pdf'.format(prefix, col))"
   ]
  },
  {
   "cell_type": "markdown",
   "metadata": {},
   "source": [
    "## Analyze variants at each position in the primer"
   ]
  },
  {
   "cell_type": "code",
   "execution_count": null,
   "metadata": {},
   "outputs": [],
   "source": [
    "def pairwise_pos_diffs(primer, ref, align_indices, check_flanks=20):\n",
    "    # go through each alignment index from min to max to allow for gaps\n",
    "    q = 0\n",
    "    indel = False\n",
    "    matching_nts = []\n",
    "    for i in range(align_indices[0], align_indices[-1] + 1):\n",
    "        if i in align_indices:\n",
    "            if ref[i] == '-':\n",
    "                indel = True\n",
    "                matching_nts.append('-')\n",
    "            elif primer[q] == ref[i] or set(\n",
    "                    ambiguous_dna_values[ref[i]]).intersection(\n",
    "                    set(ambiguous_dna_values[primer[q]])\n",
    "            ):\n",
    "                matching_nts.append(primer[q])\n",
    "            else:\n",
    "                matching_nts.append(ref[i])\n",
    "            q += 1\n",
    "        else:\n",
    "            if ref[i] != '-':\n",
    "                matching_nts[-1] += ref[i] # insertion\n",
    "                indel = True\n",
    "            # otherwise is gap in both sequences\n",
    "    if indel:\n",
    "        # attempt pairwise alignment of flanking sequences to see\n",
    "        # if there really is an exact match to primer - e.g.\n",
    "        # primer: ACGTACG-T\n",
    "        # ref:    ACGTACGTT\n",
    "        # msa:    ACGTACG-T\n",
    "        start = max((align_indices[0] - check_flanks, 0))\n",
    "        end = align_indices[-1] + check_flanks\n",
    "        max_score = None\n",
    "        for a in pairwise2.align.localms(primer, ref[start:end], 2, -1, -5, -1):\n",
    "            if a[0][a.start:a.end] == a[1][a.start:a.end]: # exact match\n",
    "                return list(primer) # exact match\n",
    "            elif max_score is None or max_score < a.score:\n",
    "                max_score = a.score\n",
    "                realign_primer = a[0]\n",
    "                realign_ref = a[1]\n",
    "        if not max_score:\n",
    "            return matching_nts\n",
    "        matching_nts = []\n",
    "        #print(\"Testing realigned primer vs ref:\\n{}\\n{}\".format(realign_primer, realign_ref))\n",
    "        for i in range(len(realign_primer)):\n",
    "            if realign_primer[i] != '-':\n",
    "                if realign_ref[i] == '-':\n",
    "                    matching_nts.append('-')  # deletion\n",
    "                elif realign_primer[i] == realign_ref[i] or set(\n",
    "                        ambiguous_dna_values[realign_ref[i]]).intersection(\n",
    "                        set(ambiguous_dna_values[realign_primer[i]])\n",
    "                ):\n",
    "                    matching_nts.append(realign_primer[i])  # match\n",
    "                else:\n",
    "                    matching_nts.append(realign_ref[i])  # mismatch\n",
    "            else:\n",
    "                if realign_ref[i] != '-':\n",
    "                    if matching_nts:  # only interested in insertions once we're in the primer sequence already\n",
    "                        if matching_nts[-1] == '-':\n",
    "                            matching_nts[-1] = ''\n",
    "                        matching_nts[-1] += realign_ref[i]  # insertion\n",
    "                # otherwise is gap in both sequences\n",
    "            if len(matching_nts) == len(primer) and matching_nts[-1] != '-':\n",
    "                break  # don't carry on adding from end of alignment\n",
    "    return matching_nts"
   ]
  },
  {
   "cell_type": "code",
   "execution_count": null,
   "metadata": {
    "scrolled": true
   },
   "outputs": [],
   "source": [
    "variants_per_probe_per_pos = dict()\n",
    "for k in probes:\n",
    "    variants_per_probe_per_pos[k] = [dict() for x in range(len(probes[k].seq))]\n",
    "n = 0\n",
    "s = 0\n",
    "with open(msa_fasta, 'rt') as fh:\n",
    "    for ref_record in SeqIO.parse(fh, 'fasta'):\n",
    "        if ref_record.id not in whitelisted_strains:\n",
    "            s += 1\n",
    "            continue\n",
    "        n += 1\n",
    "        for k, v in primer_msa_pos.items():\n",
    "            nt_list = pairwise_pos_diffs(probes[k].seq,\n",
    "                                         ref_record.seq,\n",
    "                                         v)\n",
    "            for i, nt in enumerate(nt_list):\n",
    "                nt = nt.replace('U', 'T')\n",
    "                if nt in variants_per_probe_per_pos[k][i]:\n",
    "                    variants_per_probe_per_pos[k][i][nt] += 1\n",
    "                else:\n",
    "                    variants_per_probe_per_pos[k][i][nt] = 1\n",
    "        if n % 10000 == 0:\n",
    "            print(\"Processed {:,} records, skipped {:,}\".format(n, s))\n",
    "print(\"Finished processing {:,} records, skipped {:,}\".format(n, s))"
   ]
  },
  {
   "cell_type": "code",
   "execution_count": null,
   "metadata": {},
   "outputs": [],
   "source": [
    "from Bio.Seq import Seq\n",
    "def reverse_complement_variant_pos(vp):\n",
    "    vp = reversed(vp)\n",
    "    reverse_complemented = []\n",
    "    for d in vp:\n",
    "        rc = dict()\n",
    "        for k, v in d.items():\n",
    "            rc[str(Seq(k).reverse_complement())] = v\n",
    "        reverse_complemented.append(rc)\n",
    "    return reverse_complemented"
   ]
  },
  {
   "cell_type": "code",
   "execution_count": null,
   "metadata": {},
   "outputs": [],
   "source": [
    "variants_per_probe_per_pos['S-Gene-P']"
   ]
  },
  {
   "cell_type": "code",
   "execution_count": null,
   "metadata": {},
   "outputs": [],
   "source": [
    "reverse_complement_variant_pos(variants_per_probe_per_pos['S-Gene-P'])"
   ]
  },
  {
   "cell_type": "code",
   "execution_count": null,
   "metadata": {},
   "outputs": [],
   "source": [
    "for k in variants_per_probe_per_pos:\n",
    "    if rev_re.search(k) or k == 'S-Gene-P':\n",
    "        variants_per_probe_per_pos[k] = reverse_complement_variant_pos(variants_per_probe_per_pos[k])"
   ]
  },
  {
   "cell_type": "code",
   "execution_count": null,
   "metadata": {},
   "outputs": [],
   "source": [
    "def variant_type(ref, alt):\n",
    "    ref = ref.replace('-', '')\n",
    "    alt = alt.replace('-', '')\n",
    "    if len(ref) == len(alt):\n",
    "        if ref == alt:\n",
    "            return 'Ref'\n",
    "        else:\n",
    "            if len(ref) == 1:\n",
    "                if ambiguous_match(ref, alt):\n",
    "                    return 'Ref'\n",
    "                return 'SNV'\n",
    "            return 'MNV'\n",
    "    elif len(alt) > len(ref):\n",
    "        return 'insertion'\n",
    "    elif len(alt) < len(ref):\n",
    "        return 'deletion'\n",
    "    return 'gap' # both are 0-length after removing '-'"
   ]
  },
  {
   "cell_type": "code",
   "execution_count": null,
   "metadata": {
    "scrolled": true
   },
   "outputs": [],
   "source": [
    "variants_pos_df = defaultdict(list)\n",
    "for k in variants_per_probe_per_pos:\n",
    "    if rev_re.search(k) or k == 'S-Gene-P':\n",
    "        pseq = probes[k].seq.reverse_complement()\n",
    "    else:\n",
    "        pseq = probes[k].seq\n",
    "    for i, counts in enumerate(variants_per_probe_per_pos[k]):\n",
    "        total = sum(counts.values())\n",
    "        for nt, v in counts.items():\n",
    "            variants_pos_df['Oligo'].append(k)\n",
    "            variants_pos_df['Pos'].append(i + 1)\n",
    "            variants_pos_df['3prime_dist'].append(len(pseq) - i)\n",
    "            variants_pos_df['Ref'].append(pseq[i])\n",
    "            variants_pos_df['Observed'].append(nt)\n",
    "            variants_pos_df['Type'].append(variant_type(str(pseq[i]), nt))\n",
    "            variants_pos_df['Count'].append(v)\n",
    "            variants_pos_df['Freq'].append(v/total)\n",
    "variants_pos_df = pd.DataFrame.from_dict(variants_pos_df)\n",
    "variants_pos_df.head(50)"
   ]
  },
  {
   "cell_type": "code",
   "execution_count": null,
   "metadata": {},
   "outputs": [],
   "source": [
    "variants_pos_df['Assay'] = variants_pos_df.Oligo.apply(\n",
    "    lambda x: primer_to_assay(x))\n",
    "variants_pos_df['Primer'] = variants_pos_df.Oligo.apply(\n",
    "    lambda x: primer_to_probe_type(x))\n",
    "variants_pos_df"
   ]
  },
  {
   "cell_type": "code",
   "execution_count": null,
   "metadata": {},
   "outputs": [],
   "source": [
    "variants_pos_df.to_csv(\"output/variants_per_oligo_position.csv\", index=False)\n",
    "#variants_pos_df = pd.read_csv(\"output/variants_per_oligo_position.csv\")"
   ]
  },
  {
   "cell_type": "code",
   "execution_count": null,
   "metadata": {},
   "outputs": [],
   "source": [
    "variants_pos_df[variants_pos_df.Type != 'Ref'].to_csv(\"output/variants_per_oligo_position_no_refs.csv\", index=False)"
   ]
  },
  {
   "cell_type": "code",
   "execution_count": null,
   "metadata": {},
   "outputs": [],
   "source": [
    "variants_pos_df[(variants_pos_df.Freq >= 0.001) & (variants_pos_df.Type != 'Ref')]"
   ]
  },
  {
   "cell_type": "code",
   "execution_count": null,
   "metadata": {
    "scrolled": false
   },
   "outputs": [],
   "source": [
    "pos_plot_dir = \"output/oligo_per_position_plots/high_qual\"\n",
    "if not os.path.exists(pos_plot_dir):\n",
    "    os.mkdir(pos_plot_dir)\n",
    "for oligo in probes:\n",
    "    plt.figure(figsize=(12,9))\n",
    "    sns.barplot(data=variants_pos_df[(variants_pos_df.Oligo == oligo)\n",
    "                                     & (variants_pos_df.Type != 'Ref')],\n",
    "                x='Pos', y='Freq',\n",
    "                hue='Observed', hue_order=['A', 'C', 'G', 'T', '-'],\n",
    "                order=range(1, len(probes[oligo].seq) + 1))\n",
    "    plt.legend(bbox_to_anchor=(1.05, 1.0))\n",
    "    plt.title(\"{} Variants\".format(oligo))\n",
    "    sns.despine()\n",
    "    plt.savefig(os.path.join(pos_plot_dir, \"{}_variant_positions.pdf\".format(oligo)))"
   ]
  },
  {
   "cell_type": "markdown",
   "metadata": {},
   "source": [
    "### Below is a convenience method for viewing probe vs strain sequences\n",
    "\n",
    "aligned seq of probes overlapping an insertion will contain '-' characters at these sites. Sequences of probes that only overlap mismatches or deletions will be identical to unaligned probe sequence."
   ]
  },
  {
   "cell_type": "code",
   "execution_count": null,
   "metadata": {},
   "outputs": [],
   "source": [
    "aligned_probe_seqs = dict()\n",
    "for k, v in primer_msa_pos.items():\n",
    "    seq = list(probes[k].seq)\n",
    "    prev_pos = v[0] - 1\n",
    "    aligned_seq = ''\n",
    "    for i in v:\n",
    "        if i > prev_pos + 1:\n",
    "            gap = i - prev_pos - 1\n",
    "            aligned_seq += '-' * gap\n",
    "        aligned_seq += seq.pop(0)\n",
    "        prev_pos = i\n",
    "    aligned_probe_seqs[k] = aligned_seq\n",
    "aligned_probe_seqs\n",
    "\n",
    "def probe_vs_strain(probe, strain):\n",
    "    print(\"{} vs {}\\n{}\\n{}\".format(probe,\n",
    "                                    strain,\n",
    "                                    aligned_probe_seqs[probe],\n",
    "                                    strain2probe_seq[strain][probe]))"
   ]
  },
  {
   "cell_type": "code",
   "execution_count": null,
   "metadata": {},
   "outputs": [],
   "source": [
    "n = 0\n",
    "for strain in strain2probe_seq:\n",
    "    if strain in whitelisted_strains:\n",
    "        if '----' in strain2probe_seq[strain]['S-Gene-P']:\n",
    "            n += 1\n",
    "            probe_vs_strain('S-Gene-P', strain)\n",
    "n"
   ]
  },
  {
   "cell_type": "code",
   "execution_count": null,
   "metadata": {
    "scrolled": true
   },
   "outputs": [],
   "source": [
    "for strain in hq_probe_diffs[(hq_probe_diffs.oligo == oligo) & (hq_probe_diffs.mismatch > 0)].strain.values:\n",
    "    if strain2probe_seq[strain][oligo][3] == 'G':\n",
    "        print(probe_vs_strain(oligo, strain))"
   ]
  },
  {
   "cell_type": "code",
   "execution_count": null,
   "metadata": {},
   "outputs": [],
   "source": []
  }
 ],
 "metadata": {
  "kernelspec": {
   "display_name": "Python 3",
   "language": "python",
   "name": "python3"
  },
  "language_info": {
   "codemirror_mode": {
    "name": "ipython",
    "version": 3
   },
   "file_extension": ".py",
   "mimetype": "text/x-python",
   "name": "python",
   "nbconvert_exporter": "python",
   "pygments_lexer": "ipython3",
   "version": "3.8.5"
  }
 },
 "nbformat": 4,
 "nbformat_minor": 4
}
